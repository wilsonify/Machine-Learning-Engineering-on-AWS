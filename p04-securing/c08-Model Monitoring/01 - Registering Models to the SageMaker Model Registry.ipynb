{
 "cells": [
  {
   "cell_type": "code",
   "execution_count": null,
   "metadata": {
    "scrolled": true
   },
   "outputs": [],
   "source": [
    "%%bash\n",
    "\n",
    "mkdir -p tmp\n",
    "wget -O tmp/knn.model.tar.gz https://bit.ly/3yZ6qHE\n",
    "wget -O tmp/ll.model.tar.gz https://bit.ly/3ahj1fd"
   ]
  },
  {
   "cell_type": "code",
   "execution_count": null,
   "metadata": {},
   "outputs": [],
   "source": [
    "s3_bucket = \"<INSERT S3 BUCKET HERE>\"\n",
    "prefix = \"chapter08\""
   ]
  },
  {
   "cell_type": "code",
   "execution_count": null,
   "metadata": {},
   "outputs": [],
   "source": [
    "!aws s3 mb s3://{s3_bucket}"
   ]
  },
  {
   "cell_type": "code",
   "execution_count": null,
   "metadata": {},
   "outputs": [],
   "source": [
    "ll_model_data = f's3://{s3_bucket}/{prefix}/models/ll.model.tar.gz'\n",
    "knn_model_data = f's3://{s3_bucket}/{prefix}/models/knn.model.tar.gz'"
   ]
  },
  {
   "cell_type": "code",
   "execution_count": null,
   "metadata": {},
   "outputs": [],
   "source": [
    "!aws s3 cp tmp/ll.model.tar.gz {ll_model_data}\n",
    "!aws s3 cp tmp/knn.model.tar.gz {knn_model_data}"
   ]
  },
  {
   "cell_type": "code",
   "execution_count": null,
   "metadata": {},
   "outputs": [],
   "source": [
    "from sagemaker.image_uris import retrieve\n",
    "\n",
    "ll_image_uri = retrieve(\n",
    "    \"linear-learner\", \n",
    "    region=\"us-west-2\", \n",
    "    version=\"1\"\n",
    ")\n",
    "\n",
    "knn_image_uri = retrieve(\n",
    "    \"knn\", \n",
    "    region=\"us-west-2\", \n",
    "    version=\"1\"\n",
    ")"
   ]
  },
  {
   "cell_type": "code",
   "execution_count": null,
   "metadata": {},
   "outputs": [],
   "source": [
    "import boto3\n",
    "client = boto3.client(service_name=\"sagemaker\")"
   ]
  },
  {
   "cell_type": "code",
   "execution_count": null,
   "metadata": {},
   "outputs": [],
   "source": [
    "import string \n",
    "import random\n",
    "\n",
    "def generate_random_string():\n",
    "    return ''.join(\n",
    "        random.sample(\n",
    "        string.ascii_uppercase,12)\n",
    "    )"
   ]
  },
  {
   "cell_type": "code",
   "execution_count": null,
   "metadata": {},
   "outputs": [],
   "source": [
    "group_id = generate_random_string()\n",
    "model_package_group_name = f\"group-{group_id}\"\n",
    "model_package_group_desc = f\"Model package group {group_id}\"\n",
    "\n",
    "response = client.create_model_package_group(\n",
    "    ModelPackageGroupName=model_package_group_name,\n",
    "    ModelPackageGroupDescription=model_package_group_desc\n",
    ")\n",
    "\n",
    "package_group_arn = response['ModelPackageGroupArn']\n",
    "package_group_arn"
   ]
  },
  {
   "cell_type": "code",
   "execution_count": null,
   "metadata": {},
   "outputs": [],
   "source": [
    "def prepare_inference_specs(image_uri, model_data):\n",
    "    return {\n",
    "        \"Containers\": [\n",
    "            {\n",
    "                \"Image\": image_uri,\n",
    "                \"ModelDataUrl\": model_data\n",
    "            }\n",
    "        ],\n",
    "        \"SupportedContentTypes\": [ \n",
    "            \"text/csv\" \n",
    "        ],\n",
    "        \"SupportedResponseMIMETypes\": [ \n",
    "            \"application/json\" \n",
    "        ],\n",
    "    }"
   ]
  },
  {
   "cell_type": "code",
   "execution_count": null,
   "metadata": {},
   "outputs": [],
   "source": [
    "def create_model_package(package_group_arn, inference_specs, client=client):\n",
    "    input_dict = {\n",
    "        \"ModelPackageGroupName\" : package_group_arn,\n",
    "        \"ModelPackageDescription\" : f\"Description for {package_group_arn}\",\n",
    "        \"ModelApprovalStatus\" : \"Approved\",\n",
    "        \"InferenceSpecification\" : inference_specs\n",
    "    }\n",
    "    \n",
    "    response = client.create_model_package(**input_dict)\n",
    "    return response[\"ModelPackageArn\"]"
   ]
  },
  {
   "cell_type": "code",
   "execution_count": null,
   "metadata": {},
   "outputs": [],
   "source": [
    "knn_inference_specs = prepare_inference_specs(\n",
    "    image_uri=knn_image_uri,\n",
    "    model_data=knn_model_data\n",
    ")\n",
    "\n",
    "ll_inference_specs = prepare_inference_specs(\n",
    "    image_uri=ll_image_uri,\n",
    "    model_data=ll_model_data\n",
    ")"
   ]
  },
  {
   "cell_type": "code",
   "execution_count": null,
   "metadata": {},
   "outputs": [],
   "source": [
    "knn_package_arn = create_model_package(\n",
    "    package_group_arn=package_group_arn,\n",
    "    inference_specs=knn_inference_specs\n",
    ")\n",
    "\n",
    "ll_package_arn = create_model_package(\n",
    "    package_group_arn=package_group_arn,\n",
    "    inference_specs=ll_inference_specs\n",
    ")"
   ]
  },
  {
   "cell_type": "code",
   "execution_count": null,
   "metadata": {},
   "outputs": [],
   "source": [
    "%store knn_package_arn\n",
    "%store ll_package_arn"
   ]
  },
  {
   "cell_type": "code",
   "execution_count": null,
   "metadata": {},
   "outputs": [],
   "source": [
    "%store s3_bucket\n",
    "%store prefix"
   ]
  }
 ],
 "metadata": {
  "instance_type": "ml.t3.medium",
  "kernelspec": {
   "display_name": "Python 3 (Data Science)",
   "language": "python",
   "name": "python3__SAGEMAKER_INTERNAL__arn:aws:sagemaker:us-west-2:236514542706:image/datascience-1.0"
  },
  "language_info": {
   "codemirror_mode": {
    "name": "ipython",
    "version": 3
   },
   "file_extension": ".py",
   "mimetype": "text/x-python",
   "name": "python",
   "nbconvert_exporter": "python",
   "pygments_lexer": "ipython3",
   "version": "3.7.10"
  }
 },
 "nbformat": 4,
 "nbformat_minor": 4
}
