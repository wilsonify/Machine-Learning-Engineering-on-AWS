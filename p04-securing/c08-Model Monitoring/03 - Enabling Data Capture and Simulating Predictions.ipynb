{
 "cells": [
  {
   "cell_type": "code",
   "execution_count": null,
   "metadata": {},
   "outputs": [],
   "source": [
    "%store -r s3_bucket\n",
    "%store -r prefix"
   ]
  },
  {
   "cell_type": "code",
   "execution_count": null,
   "metadata": {},
   "outputs": [],
   "source": [
    "%store -r ll_package_arn\n",
    "%store -r endpoint_name"
   ]
  },
  {
   "cell_type": "code",
   "execution_count": null,
   "metadata": {},
   "outputs": [],
   "source": [
    "import sagemaker\n",
    "from sagemaker import get_execution_role\n",
    "from sagemaker.predictor import Predictor\n",
    "from sagemaker.serializers import CSVSerializer\n",
    "from sagemaker.deserializers import CSVDeserializer\n",
    "\n",
    "session = sagemaker.Session()\n",
    "role = get_execution_role()\n",
    "\n",
    "predictor = Predictor(\n",
    "    endpoint_name=endpoint_name,\n",
    "    sagemaker_session=session,\n",
    "    role=role,\n",
    "    serializer=CSVSerializer(),\n",
    "    deserializer=CSVDeserializer()\n",
    ")"
   ]
  },
  {
   "cell_type": "code",
   "execution_count": null,
   "metadata": {},
   "outputs": [],
   "source": [
    "from sagemaker.model_monitor import DataCaptureConfig\n",
    "\n",
    "base = f\"s3://{s3_bucket}/{prefix}\"\n",
    "capture_upload_path = f\"{base}/data-capture\"\n",
    "\n",
    "capture_config_dict = {\n",
    "    'enable_capture': True,\n",
    "    'sampling_percentage': 100,\n",
    "    'destination_s3_uri': capture_upload_path,\n",
    "    'kms_key_id': None,\n",
    "    'capture_options': [\"REQUEST\", \"RESPONSE\"],\n",
    "    'csv_content_types': [\"text/csv\"],\n",
    "    'json_content_types': [\"application/json\"]\n",
    "}\n",
    "\n",
    "data_capture_config = DataCaptureConfig(\n",
    "    **capture_config_dict\n",
    ")"
   ]
  },
  {
   "cell_type": "code",
   "execution_count": null,
   "metadata": {},
   "outputs": [],
   "source": [
    "%%time\n",
    "\n",
    "predictor.update_data_capture_config(\n",
    "    data_capture_config=data_capture_config\n",
    ")"
   ]
  },
  {
   "cell_type": "code",
   "execution_count": null,
   "metadata": {},
   "outputs": [],
   "source": [
    "%store capture_upload_path"
   ]
  },
  {
   "cell_type": "code",
   "execution_count": null,
   "metadata": {},
   "outputs": [],
   "source": [
    "import random\n",
    "\n",
    "def generate_random_payload():\n",
    "    x = random.randint(-5,5)\n",
    "    y = random.randint(-5,5)\n",
    "    \n",
    "    return f\"{x},{y}\""
   ]
  },
  {
   "cell_type": "code",
   "execution_count": null,
   "metadata": {},
   "outputs": [],
   "source": [
    "generate_random_payload()"
   ]
  },
  {
   "cell_type": "code",
   "execution_count": null,
   "metadata": {},
   "outputs": [],
   "source": [
    "def perform_good_input(predictor):\n",
    "    print(\"> PERFORM REQUEST WITH GOOD INPUT\")\n",
    "    payload = generate_random_payload()\n",
    "    result = predictor.predict(data=payload)\n",
    "    print(result)\n",
    "\n",
    "\n",
    "def perform_bad_input(predictor):\n",
    "    print(\"> PERFORM REQUEST WITH BAD INPUT\")\n",
    "    payload = generate_random_payload() + \".50\"\n",
    "    result = predictor.predict(data=payload)\n",
    "    print(result)"
   ]
  },
  {
   "cell_type": "code",
   "execution_count": null,
   "metadata": {},
   "outputs": [],
   "source": [
    "perform_good_input(predictor)"
   ]
  },
  {
   "cell_type": "code",
   "execution_count": null,
   "metadata": {},
   "outputs": [],
   "source": [
    "perform_bad_input(predictor)"
   ]
  },
  {
   "cell_type": "code",
   "execution_count": null,
   "metadata": {},
   "outputs": [],
   "source": [
    "from time import sleep\n",
    "\n",
    "def generate_sample_requests(predictor):\n",
    "    for i in range(0, 2 * 240):\n",
    "        print(f\"ITERATION # {i}\")\n",
    "        perform_good_input(predictor)\n",
    "        perform_bad_input(predictor)\n",
    "        \n",
    "        print(\"> SLEEPING FOR 30 SECONDS\")\n",
    "        sleep(30)"
   ]
  },
  {
   "cell_type": "code",
   "execution_count": null,
   "metadata": {
    "scrolled": true
   },
   "outputs": [],
   "source": [
    "generate_sample_requests(predictor)"
   ]
  }
 ],
 "metadata": {
  "instance_type": "ml.t3.medium",
  "kernelspec": {
   "display_name": "Python 3 (Data Science)",
   "language": "python",
   "name": "python3__SAGEMAKER_INTERNAL__arn:aws:sagemaker:us-west-2:236514542706:image/datascience-1.0"
  },
  "language_info": {
   "codemirror_mode": {
    "name": "ipython",
    "version": 3
   },
   "file_extension": ".py",
   "mimetype": "text/x-python",
   "name": "python",
   "nbconvert_exporter": "python",
   "pygments_lexer": "ipython3",
   "version": "3.7.10"
  }
 },
 "nbformat": 4,
 "nbformat_minor": 4
}
