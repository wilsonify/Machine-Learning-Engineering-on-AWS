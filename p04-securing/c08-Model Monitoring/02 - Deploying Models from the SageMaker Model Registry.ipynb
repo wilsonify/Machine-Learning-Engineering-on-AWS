{
 "cells": [
  {
   "cell_type": "code",
   "execution_count": null,
   "metadata": {},
   "outputs": [],
   "source": [
    "%store -r knn_package_arn\n",
    "%store -r ll_package_arn"
   ]
  },
  {
   "cell_type": "code",
   "execution_count": null,
   "metadata": {},
   "outputs": [],
   "source": [
    "import sagemaker\n",
    "from sagemaker import get_execution_role\n",
    "from sagemaker import ModelPackage\n",
    "from sagemaker.predictor import Predictor\n",
    "\n",
    "\n",
    "session = sagemaker.Session()\n",
    "role = get_execution_role()\n",
    "\n",
    "model = ModelPackage(\n",
    "    role=role,\n",
    "    model_package_arn=knn_package_arn,\n",
    "    sagemaker_session=session\n",
    ")\n",
    "\n",
    "model.predictor_cls = Predictor"
   ]
  },
  {
   "cell_type": "code",
   "execution_count": null,
   "metadata": {},
   "outputs": [],
   "source": [
    "from sagemaker.serializers import JSONSerializer\n",
    "from sagemaker.deserializers import JSONDeserializer\n",
    "\n",
    "predictor = model.deploy(\n",
    "    instance_type='ml.m5.xlarge', \n",
    "    initial_instance_count=1,\n",
    "    serializer=JSONSerializer(),\n",
    "    deserializer=JSONDeserializer()\n",
    ")"
   ]
  },
  {
   "cell_type": "code",
   "execution_count": null,
   "metadata": {},
   "outputs": [],
   "source": [
    "payload = {\n",
    "    'instances': [\n",
    "        {\n",
    "          \"features\": [ 1.5, 2 ]\n",
    "        },\n",
    "    ]\n",
    "}\n",
    "\n",
    "predictor.predict(data=payload)"
   ]
  },
  {
   "cell_type": "code",
   "execution_count": null,
   "metadata": {},
   "outputs": [],
   "source": [
    "def process_prediction_result(raw_result):\n",
    "    first = raw_result['predictions'][0]\n",
    "    return first['predicted_label']"
   ]
  },
  {
   "cell_type": "code",
   "execution_count": null,
   "metadata": {},
   "outputs": [],
   "source": [
    "def predict(x, y, predictor=predictor):\n",
    "    payload = {\n",
    "        'instances': [\n",
    "            {\n",
    "              \"features\": [ x, y ]\n",
    "            },\n",
    "        ]\n",
    "    }\n",
    "    \n",
    "    raw_result = predictor.predict(\n",
    "        data=payload\n",
    "    )\n",
    "    \n",
    "    return process_prediction_result(raw_result)"
   ]
  },
  {
   "cell_type": "code",
   "execution_count": null,
   "metadata": {},
   "outputs": [],
   "source": [
    "predict(x=3, y=4)"
   ]
  },
  {
   "cell_type": "code",
   "execution_count": null,
   "metadata": {},
   "outputs": [],
   "source": [
    "from time import sleep\n",
    "\n",
    "def test_different_values(predictor=predictor):\n",
    "    for x in range(-3, 3+1):\n",
    "        for y in range(-3, 3+1):\n",
    "            label = predict(x=x, y=y, predictor=predictor)\n",
    "            print(f\"x={x}, y={y}, label={label}\")\n",
    "            sleep(0.2)"
   ]
  },
  {
   "cell_type": "code",
   "execution_count": null,
   "metadata": {},
   "outputs": [],
   "source": [
    "test_different_values()"
   ]
  },
  {
   "cell_type": "code",
   "execution_count": null,
   "metadata": {},
   "outputs": [],
   "source": [
    "import boto3\n",
    "client = boto3.client(service_name=\"sagemaker\")\n",
    "\n",
    "\n",
    "def create_model(model_package_arn, model_name, role=role, client=client):\n",
    "    container_list = [\n",
    "        {'ModelPackageName': model_package_arn}\n",
    "    ]\n",
    "\n",
    "    response = client.create_model(\n",
    "        ModelName = model_name,\n",
    "        ExecutionRoleArn = role,\n",
    "        Containers = container_list\n",
    "    )\n",
    "    \n",
    "    return response[\"ModelArn\"]"
   ]
  },
  {
   "cell_type": "code",
   "execution_count": null,
   "metadata": {},
   "outputs": [],
   "source": [
    "import string \n",
    "import random\n",
    "\n",
    "def generate_random_string():\n",
    "    return ''.join(\n",
    "        random.sample(\n",
    "        string.ascii_uppercase,12)\n",
    "    )\n",
    "\n",
    "\n",
    "model_name = f\"ll-{generate_random_string()}\"\n",
    "\n",
    "model_arn = create_model(\n",
    "    model_package_arn=ll_package_arn,\n",
    "    model_name=model_name\n",
    ")"
   ]
  },
  {
   "cell_type": "code",
   "execution_count": null,
   "metadata": {},
   "outputs": [],
   "source": [
    "def create_endpoint_config(model_name, config_name, client=client):\n",
    "    response = client.create_endpoint_config(\n",
    "        EndpointConfigName = config_name,\n",
    "        ProductionVariants=[{\n",
    "            'InstanceType': \"ml.m5.xlarge\",\n",
    "            'InitialInstanceCount': 1,\n",
    "            'InitialVariantWeight': 1,\n",
    "            'ModelName': model_name,\n",
    "            'VariantName': 'AllTraffic'\n",
    "        }]\n",
    "    )\n",
    "\n",
    "    return response[\"EndpointConfigArn\"]"
   ]
  },
  {
   "cell_type": "code",
   "execution_count": null,
   "metadata": {},
   "outputs": [],
   "source": [
    "config_name = f\"config-{generate_random_string()}\"\n",
    "\n",
    "config_arn = create_endpoint_config(\n",
    "    model_name=model_name,\n",
    "    config_name=config_name\n",
    ")"
   ]
  },
  {
   "cell_type": "code",
   "execution_count": null,
   "metadata": {},
   "outputs": [],
   "source": [
    "response = client.update_endpoint(\n",
    "    EndpointName=predictor.endpoint_name,\n",
    "    EndpointConfigName=config_name\n",
    ")"
   ]
  },
  {
   "cell_type": "code",
   "execution_count": null,
   "metadata": {},
   "outputs": [],
   "source": [
    "print('Wait for update operation to complete')\n",
    "sleep(60*5)"
   ]
  },
  {
   "cell_type": "code",
   "execution_count": null,
   "metadata": {},
   "outputs": [],
   "source": [
    "predictor = Predictor(\n",
    "    endpoint_name=predictor.endpoint_name,\n",
    "    sagemaker_session=session,\n",
    "    serializer=JSONSerializer(),\n",
    "    deserializer=JSONDeserializer()\n",
    ")"
   ]
  },
  {
   "cell_type": "code",
   "execution_count": null,
   "metadata": {},
   "outputs": [],
   "source": [
    "payload = {\n",
    "    'instances': [\n",
    "        {\n",
    "          \"features\": [ 1.5, 2 ]\n",
    "        },\n",
    "    ]\n",
    "}\n",
    "\n",
    "predictor.predict(data=payload)"
   ]
  },
  {
   "cell_type": "code",
   "execution_count": null,
   "metadata": {},
   "outputs": [],
   "source": [
    "test_different_values(predictor=predictor)"
   ]
  },
  {
   "cell_type": "code",
   "execution_count": null,
   "metadata": {},
   "outputs": [],
   "source": [
    "# predictor.delete_endpoint()"
   ]
  },
  {
   "cell_type": "code",
   "execution_count": null,
   "metadata": {},
   "outputs": [],
   "source": [
    "endpoint_name = predictor.endpoint_name\n",
    "%store endpoint_name"
   ]
  }
 ],
 "metadata": {
  "instance_type": "ml.t3.medium",
  "kernelspec": {
   "display_name": "Python 3 (Data Science)",
   "language": "python",
   "name": "python3__SAGEMAKER_INTERNAL__arn:aws:sagemaker:us-west-2:236514542706:image/datascience-1.0"
  },
  "language_info": {
   "codemirror_mode": {
    "name": "ipython",
    "version": 3
   },
   "file_extension": ".py",
   "mimetype": "text/x-python",
   "name": "python",
   "nbconvert_exporter": "python",
   "pygments_lexer": "ipython3",
   "version": "3.7.10"
  }
 },
 "nbformat": 4,
 "nbformat_minor": 4
}
