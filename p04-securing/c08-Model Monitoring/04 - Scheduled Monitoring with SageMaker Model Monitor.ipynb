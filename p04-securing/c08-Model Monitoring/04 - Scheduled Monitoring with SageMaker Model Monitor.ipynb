{
 "cells": [
  {
   "cell_type": "code",
   "execution_count": null,
   "metadata": {},
   "outputs": [],
   "source": [
    "%store -r s3_bucket\n",
    "%store -r prefix"
   ]
  },
  {
   "cell_type": "code",
   "execution_count": null,
   "metadata": {},
   "outputs": [],
   "source": [
    "%store -r ll_package_arn\n",
    "%store -r endpoint_name"
   ]
  },
  {
   "cell_type": "code",
   "execution_count": null,
   "metadata": {},
   "outputs": [],
   "source": [
    "%store -r ll_package_arn"
   ]
  },
  {
   "cell_type": "code",
   "execution_count": null,
   "metadata": {},
   "outputs": [],
   "source": [
    "import sagemaker\n",
    "from sagemaker import get_execution_role\n",
    "from sagemaker.predictor import Predictor\n",
    "\n",
    "session = sagemaker.Session()\n",
    "role = get_execution_role()\n",
    "\n",
    "predictor = Predictor(\n",
    "    endpoint_name=endpoint_name,\n",
    "    sagemaker_session=session,\n",
    "    role=role\n",
    ")"
   ]
  },
  {
   "cell_type": "code",
   "execution_count": null,
   "metadata": {},
   "outputs": [],
   "source": [
    "%%bash\n",
    "\n",
    "mkdir -p tmp\n",
    "wget -O tmp/baseline.csv https://bit.ly/3td5vjx"
   ]
  },
  {
   "cell_type": "code",
   "execution_count": null,
   "metadata": {},
   "outputs": [],
   "source": [
    "base = f's3://{s3_bucket}/{prefix}'\n",
    "baseline_source_uri = f'{base}/baseline.csv'\n",
    "baseline_output_uri = f\"{base}/baseline-output\""
   ]
  },
  {
   "cell_type": "code",
   "execution_count": null,
   "metadata": {},
   "outputs": [],
   "source": [
    "!aws s3 cp tmp/baseline.csv {baseline_source_uri}"
   ]
  },
  {
   "cell_type": "code",
   "execution_count": null,
   "metadata": {},
   "outputs": [],
   "source": [
    "from sagemaker.model_monitor import DefaultModelMonitor\n",
    "\n",
    "monitor_dict = {\n",
    "    'role': role,\n",
    "    'instance_count': 1,\n",
    "    'instance_type': 'ml.m5.large',\n",
    "    'volume_size_in_gb': 10,\n",
    "    'max_runtime_in_seconds': 1800,\n",
    "}\n",
    "\n",
    "default_monitor = DefaultModelMonitor(\n",
    "    **monitor_dict\n",
    ")"
   ]
  },
  {
   "cell_type": "code",
   "execution_count": null,
   "metadata": {
    "scrolled": true
   },
   "outputs": [],
   "source": [
    "%%time\n",
    "\n",
    "from sagemaker.model_monitor import dataset_format\n",
    "\n",
    "dataset_format = dataset_format.DatasetFormat.csv(header=True)\n",
    "\n",
    "baseline_dict = {\n",
    "    'baseline_dataset': baseline_source_uri,\n",
    "    'dataset_format': dataset_format,\n",
    "    'output_s3_uri': baseline_output_uri,\n",
    "    'wait': True\n",
    "}\n",
    "\n",
    "default_monitor.suggest_baseline(\n",
    "    **baseline_dict\n",
    ")"
   ]
  },
  {
   "cell_type": "code",
   "execution_count": null,
   "metadata": {},
   "outputs": [],
   "source": [
    "import pandas as pd\n",
    "\n",
    "def flatten(input_dict):\n",
    "    df = pd.json_normalize(input_dict)\n",
    "    return df.head()"
   ]
  },
  {
   "cell_type": "code",
   "execution_count": null,
   "metadata": {},
   "outputs": [],
   "source": [
    "baseline_job = default_monitor.latest_baselining_job\n",
    "stats = baseline_job.baseline_statistics()\n",
    "schema_dict = stats.body_dict[\"features\"]\n",
    "\n",
    "flatten(schema_dict)"
   ]
  },
  {
   "cell_type": "code",
   "execution_count": null,
   "metadata": {},
   "outputs": [],
   "source": [
    "constraints = baseline_job.suggested_constraints()\n",
    "constraints_dict = constraints.body_dict[\"features\"]\n",
    "\n",
    "flatten(constraints_dict)"
   ]
  },
  {
   "cell_type": "code",
   "execution_count": null,
   "metadata": {},
   "outputs": [],
   "source": [
    "constraints.body_dict['features'][1]['inferred_type'] = 'Integral'\n",
    "constraints.body_dict['features'][2]['inferred_type'] = 'Integral'\n",
    "constraints.save()"
   ]
  },
  {
   "cell_type": "code",
   "execution_count": null,
   "metadata": {},
   "outputs": [],
   "source": [
    "from sagemaker.model_monitor import CronExpressionGenerator\n",
    "from string import ascii_uppercase\n",
    "import random\n",
    "\n",
    "\n",
    "def generate_label():\n",
    "    chars = random.choices(ascii_uppercase, k=5)\n",
    "    output = 'monitor-' + ''.join(chars)\n",
    "    return output"
   ]
  },
  {
   "cell_type": "code",
   "execution_count": null,
   "metadata": {},
   "outputs": [],
   "source": [
    "s3_report_path = f'{base}/report'\n",
    "baseline_statistics = default_monitor.baseline_statistics()\n",
    "constraints = default_monitor.suggested_constraints()"
   ]
  },
  {
   "cell_type": "code",
   "execution_count": null,
   "metadata": {},
   "outputs": [],
   "source": [
    "cron_expression = CronExpressionGenerator.hourly()"
   ]
  },
  {
   "cell_type": "code",
   "execution_count": null,
   "metadata": {},
   "outputs": [],
   "source": [
    "schedule_dict = {\n",
    "    'monitor_schedule_name': generate_label(),\n",
    "    'endpoint_input': predictor.endpoint,\n",
    "    'output_s3_uri': s3_report_path,\n",
    "    'statistics': baseline_statistics,\n",
    "    'constraints': constraints,\n",
    "    'schedule_cron_expression': cron_expression,\n",
    "    'enable_cloudwatch_metrics': True\n",
    "}\n",
    "\n",
    "default_monitor.create_monitoring_schedule(\n",
    "    **schedule_dict\n",
    ")"
   ]
  },
  {
   "cell_type": "code",
   "execution_count": null,
   "metadata": {},
   "outputs": [],
   "source": [
    "flatten(default_monitor.describe_schedule())"
   ]
  },
  {
   "cell_type": "code",
   "execution_count": null,
   "metadata": {},
   "outputs": [],
   "source": [
    "from time import sleep\n",
    "sleep(300)"
   ]
  },
  {
   "cell_type": "code",
   "execution_count": null,
   "metadata": {},
   "outputs": [],
   "source": [
    "dm = default_monitor\n",
    "monitoring_violations = dm.latest_monitoring_constraint_violations()\n",
    "monitoring_statistics = dm.latest_monitoring_statistics()"
   ]
  },
  {
   "cell_type": "code",
   "execution_count": null,
   "metadata": {},
   "outputs": [],
   "source": [
    "%%time\n",
    "\n",
    "from time import sleep\n",
    "\n",
    "\n",
    "def get_violations():\n",
    "    return dm.latest_monitoring_constraint_violations()\n",
    "\n",
    "\n",
    "def loop_and_load_violations():\n",
    "    for i in range(0, 2 * 120):\n",
    "        print(f\"ITERATION # {i}\")\n",
    "        print(\"> SLEEPING FOR 60 SECONDS\")\n",
    "        sleep(60)\n",
    "        \n",
    "        try:\n",
    "            v = get_violations()\n",
    "            violations = v\n",
    "            \n",
    "            if violations:\n",
    "                return violations\n",
    "        except:\n",
    "            pass\n",
    "    \n",
    "    print(\"> DONE!\")\n",
    "    return None              \n",
    "              \n",
    "          \n",
    "loop_and_load_violations()"
   ]
  },
  {
   "cell_type": "code",
   "execution_count": null,
   "metadata": {},
   "outputs": [],
   "source": [
    "violations = dm.latest_monitoring_constraint_violations()\n",
    "violations.__dict__"
   ]
  },
  {
   "cell_type": "code",
   "execution_count": null,
   "metadata": {
    "scrolled": true
   },
   "outputs": [],
   "source": [
    "monitoring_statistics = dm.latest_monitoring_statistics()\n",
    "monitoring_statistics.__dict__"
   ]
  }
 ],
 "metadata": {
  "instance_type": "ml.t3.medium",
  "kernelspec": {
   "display_name": "Python 3 (Data Science)",
   "language": "python",
   "name": "python3__SAGEMAKER_INTERNAL__arn:aws:sagemaker:us-west-2:236514542706:image/datascience-1.0"
  },
  "language_info": {
   "codemirror_mode": {
    "name": "ipython",
    "version": 3
   },
   "file_extension": ".py",
   "mimetype": "text/x-python",
   "name": "python",
   "nbconvert_exporter": "python",
   "pygments_lexer": "ipython3",
   "version": "3.7.10"
  }
 },
 "nbformat": 4,
 "nbformat_minor": 4
}
