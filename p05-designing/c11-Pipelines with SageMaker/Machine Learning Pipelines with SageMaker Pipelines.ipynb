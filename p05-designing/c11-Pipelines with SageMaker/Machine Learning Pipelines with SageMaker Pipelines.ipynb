{
 "cells": [
  {
   "cell_type": "code",
   "execution_count": null,
   "id": "d9c1adda-d9cd-4595-9a16-7cce18039fbc",
   "metadata": {},
   "outputs": [],
   "source": [
    "!wget -O processing.py https://bit.ly/3QiGDQO"
   ]
  },
  {
   "cell_type": "code",
   "execution_count": null,
   "id": "7f47d303-c3ca-4726-b03c-cdd6fe9fb478",
   "metadata": {},
   "outputs": [],
   "source": [
    "!mkdir -p tmp"
   ]
  },
  {
   "cell_type": "code",
   "execution_count": null,
   "id": "108a0b25-d2d6-465b-a1b6-a015ba1f051f",
   "metadata": {},
   "outputs": [],
   "source": [
    "!wget -O tmp/bookings.all.csv https://bit.ly/3BUcMK4"
   ]
  },
  {
   "cell_type": "code",
   "execution_count": null,
   "id": "44cb0d62-0cdf-4f6b-985b-c3f81dec12da",
   "metadata": {},
   "outputs": [],
   "source": [
    "s3_bucket = '<INSERT S3 BUCKET NAME HERE>'\n",
    "prefix = 'pipeline'"
   ]
  },
  {
   "cell_type": "code",
   "execution_count": null,
   "id": "0ba1b117-2f0a-4e80-8ab9-825d9004553c",
   "metadata": {},
   "outputs": [],
   "source": [
    "!aws s3 mb s3://{s3_bucket}"
   ]
  },
  {
   "cell_type": "code",
   "execution_count": null,
   "id": "b8095daa-1f36-4937-8b12-1ac76ea92b0d",
   "metadata": {},
   "outputs": [],
   "source": [
    "source_path = f's3://{s3_bucket}/{prefix}' + \\\n",
    "               '/source/dataset.all.csv'"
   ]
  },
  {
   "cell_type": "code",
   "execution_count": null,
   "id": "1efc9a2c-1b70-49ea-a520-36483872d4dd",
   "metadata": {},
   "outputs": [],
   "source": [
    "!aws s3 cp tmp/bookings.all.csv {source_path}"
   ]
  },
  {
   "cell_type": "code",
   "execution_count": null,
   "id": "d8aa19d9-f42a-44ce-820c-3d549cc39281",
   "metadata": {},
   "outputs": [],
   "source": [
    "import boto3\n",
    "import sagemaker\n",
    "\n",
    "from sagemaker import get_execution_role\n",
    "from sagemaker.sklearn.processing import (\n",
    "    SKLearnProcessor\n",
    ")\n",
    "from sagemaker.workflow.steps import (\n",
    "    ProcessingStep, \n",
    "    TrainingStep\n",
    ")\n",
    "from sagemaker.workflow.step_collections import (\n",
    "    RegisterModel\n",
    ")\n",
    "from sagemaker.processing import (\n",
    "    ProcessingInput, \n",
    "    ProcessingOutput\n",
    ")\n",
    "from sagemaker.workflow.parameters import (\n",
    "    ParameterString\n",
    ")\n",
    "from sagemaker.inputs import TrainingInput\n",
    "from sagemaker.estimator import Estimator\n",
    "from sagemaker.workflow.pipeline import Pipeline"
   ]
  },
  {
   "cell_type": "code",
   "execution_count": null,
   "id": "1529774f-b745-46a1-8d45-7b06489b6416",
   "metadata": {},
   "outputs": [],
   "source": [
    "role = get_execution_role()"
   ]
  },
  {
   "cell_type": "code",
   "execution_count": null,
   "id": "cdc59849-5f16-469f-9d4c-cdb6e0c48e56",
   "metadata": {},
   "outputs": [],
   "source": [
    "session = sagemaker.Session()"
   ]
  },
  {
   "cell_type": "code",
   "execution_count": null,
   "id": "20083947-db0a-494c-96b0-2e7360a9301b",
   "metadata": {},
   "outputs": [],
   "source": [
    "input_data = ParameterString(\n",
    "    name=\"RawData\",\n",
    "    default_value=source_path, \n",
    ")"
   ]
  },
  {
   "cell_type": "code",
   "execution_count": null,
   "id": "ce0490b9-f301-4110-a811-b7e397f296da",
   "metadata": {},
   "outputs": [],
   "source": [
    "input_raw = ProcessingInput(\n",
    "    source=input_data,\n",
    "    destination='/opt/ml/processing/input/'\n",
    ")\n",
    "\n",
    "output_split = ProcessingOutput(\n",
    "    output_name=\"split\",\n",
    "    source='/opt/ml/processing/output/', \n",
    "    destination=f's3://{s3_bucket}/{prefix}/output/'\n",
    ")"
   ]
  },
  {
   "cell_type": "code",
   "execution_count": null,
   "id": "40f61c3b-a263-4521-9c45-3018ff316b5e",
   "metadata": {},
   "outputs": [],
   "source": [
    "processor = SKLearnProcessor(\n",
    "    framework_version='0.20.0',\n",
    "    role=role,\n",
    "    instance_count=1,\n",
    "    instance_type='ml.m5.large'\n",
    ")\n",
    "\n",
    "step_process = ProcessingStep(\n",
    "    name=\"PrepareData\",  \n",
    "    processor=processor,\n",
    "    inputs=[input_raw],\n",
    "    outputs=[output_split],\n",
    "    code=\"processing.py\",\n",
    ")"
   ]
  },
  {
   "cell_type": "code",
   "execution_count": null,
   "id": "a5b20d86-4284-45fd-ad93-8510b664c4e5",
   "metadata": {},
   "outputs": [],
   "source": [
    "model_path = f\"s3://{s3_bucket}/{prefix}/model/\""
   ]
  },
  {
   "cell_type": "code",
   "execution_count": null,
   "id": "84b29baa-b78c-487d-9ec0-f7ed14b7b6a1",
   "metadata": {},
   "outputs": [],
   "source": [
    "model_id = \"autogluon-classification-ensemble\""
   ]
  },
  {
   "cell_type": "code",
   "execution_count": null,
   "id": "ff7e62a3-0269-4762-98c4-86bbbc79211d",
   "metadata": {},
   "outputs": [],
   "source": [
    "region_name = \"us-west-2\""
   ]
  },
  {
   "cell_type": "code",
   "execution_count": null,
   "id": "b7f018e3-2fbe-441f-a7e9-e5a66e71fd83",
   "metadata": {},
   "outputs": [],
   "source": [
    "from sagemaker import image_uris\n",
    "\n",
    "train_image_uri = image_uris.retrieve(\n",
    "    region=region_name,\n",
    "    framework=None,\n",
    "    model_id=model_id,\n",
    "    model_version=\"*\",\n",
    "    image_scope=\"training\",\n",
    "    instance_type=\"ml.m5.xlarge\",\n",
    ")"
   ]
  },
  {
   "cell_type": "code",
   "execution_count": null,
   "id": "cc393d1a-cab5-44f6-8c26-e53f0b7adf32",
   "metadata": {},
   "outputs": [],
   "source": [
    "from sagemaker import script_uris\n",
    "\n",
    "train_source_uri = script_uris.retrieve(\n",
    "    model_id=model_id, \n",
    "    model_version=\"*\", \n",
    "    script_scope=\"training\"\n",
    ")"
   ]
  },
  {
   "cell_type": "code",
   "execution_count": null,
   "id": "d32032da-9bef-40bd-986f-b01345217250",
   "metadata": {},
   "outputs": [],
   "source": [
    "!aws s3 cp {train_source_uri} tmp/sourcedir.tar.gz"
   ]
  },
  {
   "cell_type": "code",
   "execution_count": null,
   "id": "b243b903-e83b-4afb-9e84-b0b62d821acd",
   "metadata": {},
   "outputs": [],
   "source": [
    "from sagemaker import model_uris\n",
    "\n",
    "train_model_uri = model_uris.retrieve(\n",
    "    model_id=model_id, \n",
    "    model_version=\"*\", \n",
    "    model_scope=\"training\"\n",
    ")"
   ]
  },
  {
   "cell_type": "code",
   "execution_count": null,
   "id": "5114a021-d0fd-44f9-807d-7ecb94ce9e62",
   "metadata": {},
   "outputs": [],
   "source": [
    "!aws s3 cp {train_model_uri} tmp/ensemble.tar.gz"
   ]
  },
  {
   "cell_type": "code",
   "execution_count": null,
   "id": "cb4d45c4-5925-446b-aab8-14e8880a7214",
   "metadata": {},
   "outputs": [],
   "source": [
    "from sagemaker.estimator import Estimator\n",
    "\n",
    "estimator = Estimator(\n",
    "    image_uri=train_image_uri,\n",
    "    source_dir=train_source_uri,\n",
    "    model_uri=train_model_uri,\n",
    "    entry_point=\"transfer_learning.py\",\n",
    "    instance_count=1,\n",
    "    instance_type=\"ml.m5.xlarge\",\n",
    "    max_run=900,\n",
    "    output_path=model_path,\n",
    "    session=session,\n",
    "    role=role\n",
    ")"
   ]
  },
  {
   "cell_type": "code",
   "execution_count": null,
   "id": "3ba00991-9119-4130-9692-fdc6baaa358a",
   "metadata": {},
   "outputs": [],
   "source": [
    "from sagemaker.hyperparameters import retrieve_default\n",
    "\n",
    "hyperparameters = retrieve_default(\n",
    "    model_id=model_id, \n",
    "    model_version=\"*\"\n",
    ")\n",
    "hyperparameters[\"verbosity\"] = \"3\"\n",
    "estimator.set_hyperparameters(**hyperparameters)"
   ]
  },
  {
   "cell_type": "code",
   "execution_count": null,
   "id": "42e646fd-f03d-4f8f-a94c-109ee6299dbe",
   "metadata": {},
   "outputs": [],
   "source": [
    "s3_data = step_process  \\\n",
    "              .properties  \\\n",
    "              .ProcessingOutputConfig  \\\n",
    "              .Outputs[\"split\"]  \\\n",
    "              .S3Output.S3Uri\n",
    "\n",
    "step_train = TrainingStep(\n",
    "    name=\"TrainModel\",\n",
    "    estimator=estimator,\n",
    "    inputs={\n",
    "        \"training\": TrainingInput(\n",
    "            s3_data=s3_data,\n",
    "        )\n",
    "    },\n",
    ")"
   ]
  },
  {
   "cell_type": "code",
   "execution_count": null,
   "id": "5ebfd4ff-9823-41db-911b-5a645efa3e30",
   "metadata": {},
   "outputs": [],
   "source": [
    "s3_data = step_process         \\\n",
    "    .properties                \\\n",
    "    .ProcessingOutputConfig    \\\n",
    "    .Outputs[\"split\"]          \\\n",
    "    .S3Output.S3Uri            \\\n",
    "\n",
    "step_train = TrainingStep(\n",
    "    name=\"TrainModel\",\n",
    "    estimator=estimator,\n",
    "    inputs={\n",
    "        \"training\": TrainingInput(\n",
    "            s3_data=s3_data,\n",
    "        )\n",
    "    },\n",
    ")"
   ]
  },
  {
   "cell_type": "code",
   "execution_count": null,
   "id": "cdaab6f2-f141-40c3-a9dc-ff4089673ea2",
   "metadata": {},
   "outputs": [],
   "source": [
    "deploy_image_uri = image_uris.retrieve(\n",
    "    region=region_name,\n",
    "    framework=None,\n",
    "    image_scope=\"inference\",\n",
    "    model_id=model_id,\n",
    "    model_version=\"*\",\n",
    "    instance_type=\"ml.m5.xlarge\",\n",
    ")\n",
    "\n",
    "deploy_source_uri = script_uris.retrieve(\n",
    "    model_id=model_id, \n",
    "    model_version=\"*\", \n",
    "    script_scope=\"inference\"\n",
    ")"
   ]
  },
  {
   "cell_type": "code",
   "execution_count": null,
   "id": "af3af84f-7f74-4b09-9063-867aaa82a481",
   "metadata": {},
   "outputs": [],
   "source": [
    "!aws s3 cp {deploy_source_uri} tmp/sourcedir.tar.gz"
   ]
  },
  {
   "cell_type": "code",
   "execution_count": null,
   "id": "14d82b97-cd1a-4014-9486-588282613ce0",
   "metadata": {},
   "outputs": [],
   "source": [
    "updated_source_uri = f's3://{s3_bucket}/{prefix}' + \\\n",
    "                      '/sourcedir/sourcedir.tar.gz'\n",
    "\n",
    "!aws s3 cp tmp/sourcedir.tar.gz {updated_source_uri}"
   ]
  },
  {
   "cell_type": "code",
   "execution_count": null,
   "id": "2b57b037-c8e4-43d9-b718-cb73ab88ab4b",
   "metadata": {},
   "outputs": [],
   "source": [
    "import uuid\n",
    "\n",
    "def random_string():\n",
    "    return uuid.uuid4().hex.upper()[0:6]"
   ]
  },
  {
   "cell_type": "code",
   "execution_count": null,
   "id": "367f3ecc-f20f-453c-b7f6-9faf2d2391f9",
   "metadata": {},
   "outputs": [],
   "source": [
    "from sagemaker.model import Model\n",
    "from sagemaker.workflow.pipeline_context import \\\n",
    "    PipelineSession\n",
    "\n",
    "pipeline_session = PipelineSession()\n",
    "\n",
    "model_data = step_train    \\\n",
    "    .properties            \\\n",
    "    .ModelArtifacts        \\\n",
    "    .S3ModelArtifacts      \\\n",
    "\n",
    "model = Model(image_uri=deploy_image_uri, \n",
    "              source_dir=updated_source_uri,\n",
    "              model_data=model_data,\n",
    "              role=role,\n",
    "              entry_point=\"inference.py\",\n",
    "              sagemaker_session=pipeline_session,\n",
    "              name=random_string())"
   ]
  },
  {
   "cell_type": "code",
   "execution_count": null,
   "id": "fe8122cc-b976-4f07-a218-53341d16aa52",
   "metadata": {},
   "outputs": [],
   "source": [
    "from sagemaker.workflow.model_step import ModelStep\n",
    "\n",
    "model_package_group_name = \"AutoGluonModelGroup\"\n",
    "\n",
    "register_args = model.register(\n",
    "    content_types=[\"text/csv\"],\n",
    "    response_types=[\"application/json\"],\n",
    "    inference_instances=[\"ml.m5.xlarge\"],\n",
    "    transform_instances=[\"ml.m5.xlarge\"],\n",
    "    model_package_group_name=model_package_group_name,\n",
    "    approval_status=\"Approved\",\n",
    ")\n",
    "\n",
    "step_model_create = ModelStep(\n",
    "    name=\"CreateModel\",\n",
    "    step_args=register_args\n",
    ")"
   ]
  },
  {
   "cell_type": "code",
   "execution_count": null,
   "id": "2c800677-aa1d-4597-9d2b-9801a39cb5af",
   "metadata": {},
   "outputs": [],
   "source": [
    "pipeline_name = f\"PARTIAL-PIPELINE\"\n",
    "\n",
    "partial_pipeline = Pipeline(\n",
    "    name=pipeline_name,\n",
    "    parameters=[\n",
    "        input_data\n",
    "    ],\n",
    "    steps=[\n",
    "        step_process, \n",
    "        step_train,\n",
    "        step_model_create,\n",
    "    ],\n",
    ")"
   ]
  },
  {
   "cell_type": "code",
   "execution_count": null,
   "id": "4ca8c4c3-d6c9-4b96-b29b-c519a59e7a4f",
   "metadata": {},
   "outputs": [],
   "source": [
    "partial_pipeline.upsert(role_arn=role)"
   ]
  },
  {
   "cell_type": "code",
   "execution_count": null,
   "id": "97b6ac7f-3873-4c7c-a862-e9df83acdc3e",
   "metadata": {},
   "outputs": [],
   "source": [
    "execution = partial_pipeline.start()\n",
    "execution.describe()"
   ]
  },
  {
   "cell_type": "code",
   "execution_count": null,
   "id": "b21270df-7053-4541-b2fa-7de9eafd5d45",
   "metadata": {},
   "outputs": [],
   "source": [
    "execution.wait()"
   ]
  }
 ],
 "metadata": {
  "instance_type": "ml.t3.medium",
  "kernelspec": {
   "display_name": "Python 3 (Data Science)",
   "language": "python",
   "name": "python3__SAGEMAKER_INTERNAL__arn:aws:sagemaker:us-west-2:236514542706:image/datascience-1.0"
  },
  "language_info": {
   "codemirror_mode": {
    "name": "ipython",
    "version": 3
   },
   "file_extension": ".py",
   "mimetype": "text/x-python",
   "name": "python",
   "nbconvert_exporter": "python",
   "pygments_lexer": "ipython3",
   "version": "3.7.10"
  }
 },
 "nbformat": 4,
 "nbformat_minor": 5
}
