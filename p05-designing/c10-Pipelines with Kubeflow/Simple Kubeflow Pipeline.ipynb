{
 "cells": [
  {
   "cell_type": "code",
   "execution_count": 10,
   "id": "76ecf4b0-d02c-4517-a4d2-64a42b48d62d",
   "metadata": {},
   "outputs": [],
   "source": [
    "import kfp\n",
    "from kfp import dsl\n",
    "from kfp.components import InputPath, OutputPath\n",
    "from kfp.components import create_component_from_func"
   ]
  },
  {
   "cell_type": "code",
   "execution_count": 11,
   "id": "fa43d7be-65f5-4cac-89b7-c4df82837c81",
   "metadata": {},
   "outputs": [],
   "source": [
    "def download_dataset(\n",
    "    df_all_data_path: OutputPath(str)):\n",
    "    \n",
    "    import pandas as pd\n",
    "    \n",
    "    url=\"https://bit.ly/3POP8CI\"\n",
    "    \n",
    "    df_all_data = pd.read_csv(url)\n",
    "    print(df_all_data)\n",
    "    df_all_data.to_csv(df_all_data_path, header=True, index=False)"
   ]
  },
  {
   "cell_type": "code",
   "execution_count": 12,
   "id": "ee0e57ba-08b0-45e6-80d5-6d5e931bbf82",
   "metadata": {},
   "outputs": [],
   "source": [
    "def process_data(\n",
    "    df_all_data_path: InputPath(str), \n",
    "    df_training_data_path: OutputPath(str), \n",
    "    df_test_data_path: OutputPath(str)):\n",
    "    \n",
    "    import pandas as pd\n",
    "    from sklearn.model_selection import train_test_split\n",
    "    \n",
    "    df_all_data = pd.read_csv(df_all_data_path)\n",
    "    print(df_all_data)\n",
    "    \n",
    "    X = df_all_data['management_experience_months'].values \n",
    "    y = df_all_data['monthly_salary'].values\n",
    "    X_train, X_test, y_train, y_test = train_test_split(X, y, test_size=0.3, random_state=0)\n",
    "    \n",
    "    df_training_data = pd.DataFrame({ 'monthly_salary': y_train, 'management_experience_months': X_train})\n",
    "    df_training_data.to_csv(df_training_data_path, header=True, index=False)\n",
    "    df_test_data = pd.DataFrame({ 'monthly_salary': y_test, 'management_experience_months': X_test})\n",
    "    df_test_data.to_csv(df_test_data_path, header=True, index=False)"
   ]
  },
  {
   "cell_type": "code",
   "execution_count": 13,
   "id": "e5ef3b39-6eab-4cae-b191-d739acfecd08",
   "metadata": {},
   "outputs": [],
   "source": [
    "def train_model(\n",
    "    df_training_data_path: InputPath(str),\n",
    "    model_path: OutputPath(str)):\n",
    "    \n",
    "    import pandas as pd\n",
    "    from sklearn.linear_model import LinearRegression\n",
    "    from joblib import dump\n",
    "    \n",
    "    df_training_data = pd.read_csv(df_training_data_path)\n",
    "    print(df_training_data)\n",
    "    \n",
    "    X_train = df_training_data['management_experience_months'].values\n",
    "    y_train = df_training_data['monthly_salary'].values\n",
    "    \n",
    "    model = LinearRegression().fit(X_train.reshape(-1, 1), y_train)\n",
    "    print(model)\n",
    "    dump(model, model_path)"
   ]
  },
  {
   "cell_type": "code",
   "execution_count": 14,
   "id": "c49dc349-8331-4ad8-8c34-792f3f61f416",
   "metadata": {},
   "outputs": [],
   "source": [
    "def evaluate_model(\n",
    "    model_path: InputPath(str),\n",
    "    df_test_data_path: InputPath(str)):\n",
    "    \n",
    "    import pandas as pd\n",
    "    from joblib import load\n",
    "    \n",
    "    df_test_data = pd.read_csv(df_test_data_path)\n",
    "    \n",
    "    X_test = df_test_data['management_experience_months'].values\n",
    "    y_test = df_test_data['monthly_salary'].values\n",
    "    \n",
    "    model = load(model_path)\n",
    "    print(model.score(X_test.reshape(-1, 1), y_test))"
   ]
  },
  {
   "cell_type": "code",
   "execution_count": 15,
   "id": "d398df5e-cfc0-44a2-b858-e30fa62b3178",
   "metadata": {},
   "outputs": [],
   "source": [
    "def perform_sample_prediction(\n",
    "    model_path: InputPath(str)):\n",
    "    from joblib import load\n",
    "    \n",
    "    model = load(model_path)\n",
    "    print(model.predict([[42]])[0])"
   ]
  },
  {
   "cell_type": "code",
   "execution_count": 16,
   "id": "0de95e52-f72a-4f4d-8d60-cb124fe14068",
   "metadata": {},
   "outputs": [],
   "source": [
    "download_dataset_op = create_component_from_func(\n",
    "    download_dataset, \n",
    "    packages_to_install=['pandas']\n",
    ")\n",
    "\n",
    "process_data_op = create_component_from_func(\n",
    "    process_data, \n",
    "    packages_to_install=['pandas', 'sklearn']\n",
    ")\n",
    "\n",
    "train_model_op = create_component_from_func(\n",
    "    train_model, \n",
    "    packages_to_install=['pandas', 'sklearn', 'joblib']\n",
    ")\n",
    "\n",
    "evaluate_model_op = create_component_from_func(\n",
    "    evaluate_model, \n",
    "    packages_to_install=['pandas', 'joblib', 'sklearn']\n",
    ")\n",
    "\n",
    "perform_sample_prediction_op = create_component_from_func(\n",
    "    perform_sample_prediction, \n",
    "    packages_to_install=['joblib', 'sklearn']\n",
    ")"
   ]
  },
  {
   "cell_type": "code",
   "execution_count": 17,
   "id": "6ee90185-f59b-4730-9fb2-6455f7150e7f",
   "metadata": {},
   "outputs": [],
   "source": [
    "@dsl.pipeline(\n",
    "    name='Basic pipeline',\n",
    "    description='Basic pipeline'\n",
    ")\n",
    "def basic_pipeline():\n",
    "    DOWNLOAD_DATASET = download_dataset_op()\n",
    "    PROCESS_DATA = process_data_op(DOWNLOAD_DATASET.output)\n",
    "    TRAIN_MODEL = train_model_op(PROCESS_DATA.outputs['df_training_data'])\n",
    "    EVALUATE_MODEL = evaluate_model_op(TRAIN_MODEL.outputs['model'], PROCESS_DATA.outputs['df_test_data'])\n",
    "    PERFORM_SAMPLE_PREDICTION = perform_sample_prediction_op(TRAIN_MODEL.outputs['model'])\n",
    "    PERFORM_SAMPLE_PREDICTION.after(EVALUATE_MODEL)"
   ]
  },
  {
   "cell_type": "code",
   "execution_count": 18,
   "id": "99838a08-6282-4358-9bf8-88b6f3d8166a",
   "metadata": {},
   "outputs": [],
   "source": [
    "kfp.compiler.Compiler().compile(basic_pipeline, 'basic_pipeline.yaml')"
   ]
  }
 ],
 "metadata": {
  "kernelspec": {
   "display_name": "Python 3",
   "language": "python",
   "name": "python3"
  },
  "language_info": {
   "codemirror_mode": {
    "name": "ipython",
    "version": 3
   },
   "file_extension": ".py",
   "mimetype": "text/x-python",
   "name": "python",
   "nbconvert_exporter": "python",
   "pygments_lexer": "ipython3",
   "version": "3.8.10"
  }
 },
 "nbformat": 4,
 "nbformat_minor": 5
}
