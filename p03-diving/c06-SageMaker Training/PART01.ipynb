{
 "cells": [
  {
   "cell_type": "code",
   "execution_count": null,
   "metadata": {},
   "outputs": [],
   "source": [
    "!rm -rf tmp && mkdir -p tmp"
   ]
  },
  {
   "cell_type": "code",
   "execution_count": null,
   "metadata": {},
   "outputs": [],
   "source": [
    "!wget -O tmp/batch1.zip https://bit.ly/37zmQeb"
   ]
  },
  {
   "cell_type": "code",
   "execution_count": null,
   "metadata": {
    "scrolled": true
   },
   "outputs": [],
   "source": [
    "%%time\n",
    "!cd tmp && unzip batch1.zip && rm batch1.zip"
   ]
  },
  {
   "cell_type": "code",
   "execution_count": null,
   "metadata": {
    "scrolled": true
   },
   "outputs": [],
   "source": [
    "!ls -RF"
   ]
  },
  {
   "cell_type": "code",
   "execution_count": null,
   "metadata": {},
   "outputs": [],
   "source": [
    "!pip3 install ipyplot"
   ]
  },
  {
   "cell_type": "code",
   "execution_count": null,
   "metadata": {},
   "outputs": [],
   "source": [
    "import ipyplot\n",
    "import glob\n",
    "\n",
    "for i in range(0,10):    \n",
    "    image_files = glob.glob(f\"tmp/train/{i}/*.png\")\n",
    "    \n",
    "    print(f'---{i}---')\n",
    "    \n",
    "    ipyplot.plot_images(image_files, \n",
    "                        max_images=5, \n",
    "                        img_width=128)"
   ]
  },
  {
   "cell_type": "code",
   "execution_count": null,
   "metadata": {},
   "outputs": [],
   "source": [
    "s3_bucket = \"<INSERT S3 BUCKET HERE>\"\n",
    "prefix = \"ch06\""
   ]
  },
  {
   "cell_type": "code",
   "execution_count": null,
   "metadata": {},
   "outputs": [],
   "source": [
    "training_samples = glob.glob(f\"tmp/train/*/*.png\")\n",
    "len(training_samples)"
   ]
  },
  {
   "cell_type": "code",
   "execution_count": null,
   "metadata": {},
   "outputs": [],
   "source": [
    "!aws s3 mb s3://{s3_bucket}"
   ]
  },
  {
   "cell_type": "code",
   "execution_count": null,
   "metadata": {},
   "outputs": [],
   "source": [
    "%%time\n",
    "!aws s3 rm s3://{s3_bucket} --recursive"
   ]
  },
  {
   "cell_type": "code",
   "execution_count": null,
   "metadata": {
    "scrolled": true
   },
   "outputs": [],
   "source": [
    "%%time\n",
    "!aws s3 cp tmp/.  s3://{s3_bucket}/{prefix}/ --recursive"
   ]
  },
  {
   "cell_type": "code",
   "execution_count": null,
   "metadata": {},
   "outputs": [],
   "source": [
    "import sagemaker\n",
    "import boto3\n",
    "\n",
    "session = sagemaker.Session()\n",
    "role = sagemaker.get_execution_role()\n",
    "region_name = boto3.Session().region_name"
   ]
  },
  {
   "cell_type": "code",
   "execution_count": null,
   "metadata": {},
   "outputs": [],
   "source": [
    "image = sagemaker.image_uris.retrieve(\n",
    "    \"image-classification\", \n",
    "    region_name, \n",
    "    \"1\"\n",
    ")\n",
    "\n",
    "image"
   ]
  },
  {
   "cell_type": "code",
   "execution_count": null,
   "metadata": {},
   "outputs": [],
   "source": [
    "def map_path(source):\n",
    "    return 's3://{}/{}/{}'.format(\n",
    "        s3_bucket, \n",
    "        prefix, \n",
    "        source\n",
    "    )\n",
    "\n",
    "def map_input(source):\n",
    "    path = map_path(source)\n",
    "    \n",
    "    return sagemaker.inputs.TrainingInput(\n",
    "        path, \n",
    "        distribution='FullyReplicated', \n",
    "        content_type='application/x-image', \n",
    "        s3_data_type='S3Prefix'\n",
    "    )"
   ]
  },
  {
   "cell_type": "code",
   "execution_count": null,
   "metadata": {},
   "outputs": [],
   "source": [
    "data_channels = {}"
   ]
  },
  {
   "cell_type": "code",
   "execution_count": null,
   "metadata": {},
   "outputs": [],
   "source": [
    "channels = [\"train\", \n",
    "            \"validation\",\n",
    "            \"train_lst\",\n",
    "            \"validation_lst\"]"
   ]
  },
  {
   "cell_type": "code",
   "execution_count": null,
   "metadata": {},
   "outputs": [],
   "source": [
    "for channel in channels:\n",
    "    data_channels[channel] = map_input(channel)"
   ]
  },
  {
   "cell_type": "code",
   "execution_count": null,
   "metadata": {},
   "outputs": [],
   "source": [
    "output_path = map_path(\"output\")\n",
    "output_path"
   ]
  },
  {
   "cell_type": "code",
   "execution_count": null,
   "metadata": {},
   "outputs": [],
   "source": [
    "estimator = sagemaker.estimator.Estimator(\n",
    "    image,\n",
    "    role, \n",
    "    instance_count=2, \n",
    "    instance_type='ml.p2.xlarge',\n",
    "    output_path=output_path,\n",
    "    sagemaker_session=session,\n",
    "    enable_network_isolation=True\n",
    ")"
   ]
  },
  {
   "cell_type": "code",
   "execution_count": null,
   "metadata": {},
   "outputs": [],
   "source": [
    "hyperparameters = {\n",
    "    'num_training_samples': len(training_samples),\n",
    "    'num_layers': 18,\n",
    "    'image_shape': \"1,28,28\",\n",
    "    'num_classes': 10,\n",
    "    'mini_batch_size': 100,\n",
    "    'epochs': 3,\n",
    "    'learning_rate': 0.01,\n",
    "    'top_k': 5,\n",
    "    'precision_dtype': 'float32'    \n",
    "}"
   ]
  },
  {
   "cell_type": "code",
   "execution_count": null,
   "metadata": {},
   "outputs": [],
   "source": [
    "estimator.set_hyperparameters(**hyperparameters)"
   ]
  },
  {
   "cell_type": "code",
   "execution_count": null,
   "metadata": {},
   "outputs": [],
   "source": [
    "estimator.__dict__"
   ]
  },
  {
   "cell_type": "code",
   "execution_count": null,
   "metadata": {},
   "outputs": [],
   "source": [
    "%%time\n",
    "estimator.fit(inputs=data_channels, logs=True)"
   ]
  },
  {
   "cell_type": "code",
   "execution_count": null,
   "metadata": {},
   "outputs": [],
   "source": [
    "estimator.model_data"
   ]
  },
  {
   "cell_type": "code",
   "execution_count": null,
   "metadata": {},
   "outputs": [],
   "source": [
    "model_data = estimator.model_data\n",
    "job_name = estimator.latest_training_job.name"
   ]
  },
  {
   "cell_type": "code",
   "execution_count": null,
   "metadata": {},
   "outputs": [],
   "source": [
    "%store model_data\n",
    "%store job_name\n",
    "%store role\n",
    "%store region_name\n",
    "%store image"
   ]
  },
  {
   "cell_type": "code",
   "execution_count": null,
   "metadata": {},
   "outputs": [],
   "source": [
    "endpoint = estimator.deploy(\n",
    "    initial_instance_count = 1,\n",
    "    instance_type = 'ml.m5.xlarge'\n",
    ")"
   ]
  },
  {
   "cell_type": "code",
   "execution_count": null,
   "metadata": {},
   "outputs": [],
   "source": [
    "from sagemaker.serializers import IdentitySerializer\n",
    "\n",
    "endpoint.serializer = IdentitySerializer(\n",
    "    content_type=\"application/x-image\"\n",
    ")"
   ]
  },
  {
   "cell_type": "code",
   "execution_count": null,
   "metadata": {},
   "outputs": [],
   "source": [
    "import json\n",
    "\n",
    "def get_class_from_results(results):\n",
    "    results_prob_list = json.loads(results)\n",
    "    best_index = results_prob_list.index(\n",
    "        max(results_prob_list)\n",
    "    )\n",
    "    \n",
    "    return {\n",
    "        0: \"ZERO\",\n",
    "        1: \"ONE\",\n",
    "        2: \"TWO\",\n",
    "        3: \"THREE\",\n",
    "        4: \"FOUR\",\n",
    "        5: \"FIVE\",\n",
    "        6: \"SIX\",\n",
    "        7: \"SEVEN\",\n",
    "        8: \"EIGHT\",\n",
    "        9: \"NINE\"\n",
    "    }[best_index]"
   ]
  },
  {
   "cell_type": "code",
   "execution_count": null,
   "metadata": {},
   "outputs": [],
   "source": [
    "from IPython.display import Image, display\n",
    "\n",
    "def predict(filename, endpoint=endpoint):\n",
    "    byte_array_input = None\n",
    "    \n",
    "    with open(filename, 'rb') as image:\n",
    "        f = image.read()\n",
    "        byte_array_input = bytearray(f)\n",
    "        \n",
    "    display(Image(filename))\n",
    "        \n",
    "    results = endpoint.predict(byte_array_input)\n",
    "    return get_class_from_results(results)"
   ]
  },
  {
   "cell_type": "code",
   "execution_count": null,
   "metadata": {},
   "outputs": [],
   "source": [
    "!ls tmp/test"
   ]
  },
  {
   "cell_type": "code",
   "execution_count": null,
   "metadata": {},
   "outputs": [],
   "source": [
    "results = !ls -1 tmp/test\n",
    "for filename in results:\n",
    "    print(predict(f\"tmp/test/{filename}\"))"
   ]
  },
  {
   "cell_type": "code",
   "execution_count": null,
   "metadata": {},
   "outputs": [],
   "source": [
    "endpoint.delete_endpoint()"
   ]
  }
 ],
 "metadata": {
  "instance_type": "ml.t3.medium",
  "kernelspec": {
   "display_name": "Python 3 (Data Science)",
   "language": "python",
   "name": "python3__SAGEMAKER_INTERNAL__arn:aws:sagemaker:us-west-2:236514542706:image/datascience-1.0"
  },
  "language_info": {
   "codemirror_mode": {
    "name": "ipython",
    "version": 3
   },
   "file_extension": ".py",
   "mimetype": "text/x-python",
   "name": "python",
   "nbconvert_exporter": "python",
   "pygments_lexer": "ipython3",
   "version": "3.7.10"
  }
 },
 "nbformat": 4,
 "nbformat_minor": 4
}
