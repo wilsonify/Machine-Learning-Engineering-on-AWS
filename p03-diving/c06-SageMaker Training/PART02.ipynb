{
 "cells": [
  {
   "cell_type": "code",
   "execution_count": null,
   "metadata": {},
   "outputs": [],
   "source": [
    "s3_bucket = \"<INSERT S3 BUCKET HERE>\"\n",
    "prefix = \"ch06\""
   ]
  },
  {
   "cell_type": "code",
   "execution_count": null,
   "metadata": {},
   "outputs": [],
   "source": [
    "%store -r role\n",
    "%store -r region_name\n",
    "%store -r job_name\n",
    "%store -r image\n",
    "%store -r analytics_df"
   ]
  },
  {
   "cell_type": "code",
   "execution_count": null,
   "metadata": {},
   "outputs": [],
   "source": [
    "job_name"
   ]
  },
  {
   "cell_type": "code",
   "execution_count": null,
   "metadata": {},
   "outputs": [],
   "source": [
    "import sagemaker\n",
    "from sagemaker.estimator import Estimator\n",
    "\n",
    "session = sagemaker.Session()\n",
    "previous = Estimator.attach(job_name)"
   ]
  },
  {
   "cell_type": "code",
   "execution_count": null,
   "metadata": {
    "scrolled": true
   },
   "outputs": [],
   "source": [
    "previous.logs()"
   ]
  },
  {
   "cell_type": "code",
   "execution_count": null,
   "metadata": {},
   "outputs": [],
   "source": [
    "model_data = previous.model_data\n",
    "model_data"
   ]
  },
  {
   "cell_type": "code",
   "execution_count": null,
   "metadata": {},
   "outputs": [],
   "source": [
    "import string \n",
    "import random\n",
    "\n",
    "def generate_random_string():\n",
    "    return ''.join(\n",
    "        random.sample(\n",
    "        string.ascii_uppercase,12)\n",
    "    )"
   ]
  },
  {
   "cell_type": "code",
   "execution_count": null,
   "metadata": {},
   "outputs": [],
   "source": [
    "base_job_name = generate_random_string()\n",
    "base_job_name"
   ]
  },
  {
   "cell_type": "code",
   "execution_count": null,
   "metadata": {},
   "outputs": [],
   "source": [
    "checkpoint_folder=\"checkpoints\"\n",
    "checkpoint_s3_bucket=\"s3://{}/{}/{}\".format(s3_bucket, base_job_name, checkpoint_folder)\n",
    "checkpoint_local_path=\"/opt/ml/checkpoints\""
   ]
  },
  {
   "cell_type": "code",
   "execution_count": null,
   "metadata": {},
   "outputs": [],
   "source": [
    "!rm -rf tmp2 && mkdir -p tmp2"
   ]
  },
  {
   "cell_type": "code",
   "execution_count": null,
   "metadata": {},
   "outputs": [],
   "source": [
    "%%time\n",
    "\n",
    "!wget -O tmp2/batch2.zip https://bit.ly/3KyonQE"
   ]
  },
  {
   "cell_type": "code",
   "execution_count": null,
   "metadata": {
    "scrolled": true
   },
   "outputs": [],
   "source": [
    "%%time\n",
    "\n",
    "!cd tmp2 && unzip batch2.zip && rm batch2.zip"
   ]
  },
  {
   "cell_type": "code",
   "execution_count": null,
   "metadata": {},
   "outputs": [],
   "source": [
    "import glob\n",
    "\n",
    "training_samples = glob.glob(f\"tmp2/train/*/*.png\")\n",
    "\n",
    "len(training_samples)"
   ]
  },
  {
   "cell_type": "code",
   "execution_count": null,
   "metadata": {},
   "outputs": [],
   "source": [
    "!aws s3 mb s3://{s3_bucket}"
   ]
  },
  {
   "cell_type": "code",
   "execution_count": null,
   "metadata": {},
   "outputs": [],
   "source": [
    "%%time\n",
    "\n",
    "!aws s3 rm s3://{s3_bucket} --recursive"
   ]
  },
  {
   "cell_type": "code",
   "execution_count": null,
   "metadata": {
    "scrolled": true
   },
   "outputs": [],
   "source": [
    "%%time\n",
    "\n",
    "!aws s3 cp tmp2/.  s3://{s3_bucket}/{prefix}/ --recursive"
   ]
  },
  {
   "cell_type": "code",
   "execution_count": null,
   "metadata": {},
   "outputs": [],
   "source": [
    "def map_path(source):\n",
    "    return 's3://{}/{}/{}'.format(\n",
    "        s3_bucket, \n",
    "        prefix, \n",
    "        source\n",
    "    )\n",
    "\n",
    "def map_input(source):\n",
    "    path = map_path(source)\n",
    "    \n",
    "    return sagemaker.inputs.TrainingInput(\n",
    "        path, \n",
    "        distribution='FullyReplicated', \n",
    "        content_type='application/x-image', \n",
    "        s3_data_type='S3Prefix'\n",
    "    )"
   ]
  },
  {
   "cell_type": "code",
   "execution_count": null,
   "metadata": {},
   "outputs": [],
   "source": [
    "data_channels = {}"
   ]
  },
  {
   "cell_type": "code",
   "execution_count": null,
   "metadata": {},
   "outputs": [],
   "source": [
    "channels = [\"train\", \n",
    "            \"validation\",\n",
    "            \"train_lst\",\n",
    "            \"validation_lst\"]"
   ]
  },
  {
   "cell_type": "code",
   "execution_count": null,
   "metadata": {},
   "outputs": [],
   "source": [
    "for channel in channels:\n",
    "    data_channels[channel] = map_input(channel)"
   ]
  },
  {
   "cell_type": "code",
   "execution_count": null,
   "metadata": {},
   "outputs": [],
   "source": [
    "output_path = map_path(\"output\")\n",
    "output_path"
   ]
  },
  {
   "cell_type": "code",
   "execution_count": null,
   "metadata": {},
   "outputs": [],
   "source": [
    "estimator = sagemaker.estimator.Estimator(\n",
    "    image,\n",
    "    role, \n",
    "    instance_count=2, \n",
    "    instance_type='ml.p2.xlarge',\n",
    "    output_path=output_path,\n",
    "    sagemaker_session=session,\n",
    "    enable_network_isolation=True,\n",
    "    model_uri=model_data,\n",
    "    use_spot_instances=True,\n",
    "    max_run=1800,\n",
    "    max_wait=3600,\n",
    "    base_job_name=base_job_name,\n",
    "    checkpoint_s3_uri=checkpoint_s3_bucket,\n",
    "    checkpoint_local_path=checkpoint_local_path\n",
    ")"
   ]
  },
  {
   "cell_type": "code",
   "execution_count": null,
   "metadata": {},
   "outputs": [],
   "source": [
    "hyperparameters = {\n",
    "    'num_training_samples': len(training_samples),\n",
    "    'num_layers': 18,\n",
    "    'image_shape': \"1,28,28\",\n",
    "    'num_classes': 10,\n",
    "    'mini_batch_size': 100,\n",
    "    'epochs': 3,\n",
    "    'learning_rate': 0.01,\n",
    "    'top_k': 5,\n",
    "    'precision_dtype': 'float32'    \n",
    "}"
   ]
  },
  {
   "cell_type": "code",
   "execution_count": null,
   "metadata": {},
   "outputs": [],
   "source": [
    "estimator.set_hyperparameters(**hyperparameters)"
   ]
  },
  {
   "cell_type": "code",
   "execution_count": null,
   "metadata": {},
   "outputs": [],
   "source": [
    "estimator.__dict__"
   ]
  },
  {
   "cell_type": "code",
   "execution_count": null,
   "metadata": {},
   "outputs": [],
   "source": [
    "%%time\n",
    "\n",
    "estimator.fit(inputs=data_channels, logs=True)"
   ]
  },
  {
   "cell_type": "code",
   "execution_count": null,
   "metadata": {},
   "outputs": [],
   "source": [
    "estimator.model_data"
   ]
  },
  {
   "cell_type": "code",
   "execution_count": null,
   "metadata": {},
   "outputs": [],
   "source": [
    "!aws s3 ls {estimator.checkpoint_s3_uri} --recursive"
   ]
  }
 ],
 "metadata": {
  "instance_type": "ml.t3.medium",
  "kernelspec": {
   "display_name": "Python 3 (Data Science)",
   "language": "python",
   "name": "python3__SAGEMAKER_INTERNAL__arn:aws:sagemaker:us-west-2:236514542706:image/datascience-1.0"
  },
  "language_info": {
   "codemirror_mode": {
    "name": "ipython",
    "version": 3
   },
   "file_extension": ".py",
   "mimetype": "text/x-python",
   "name": "python",
   "nbconvert_exporter": "python",
   "pygments_lexer": "ipython3",
   "version": "3.7.10"
  }
 },
 "nbformat": 4,
 "nbformat_minor": 4
}
